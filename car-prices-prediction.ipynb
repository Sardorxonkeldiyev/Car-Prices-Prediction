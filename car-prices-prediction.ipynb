{
 "cells": [
  {
   "cell_type": "code",
   "execution_count": 1,
   "id": "a6bd0548",
   "metadata": {
    "_cell_guid": "b1076dfc-b9ad-4769-8c92-a6c4dae69d19",
    "_uuid": "8f2839f25d086af736a60e9eeb907d3b93b6e0e5",
    "execution": {
     "iopub.execute_input": "2024-02-13T14:57:12.901803Z",
     "iopub.status.busy": "2024-02-13T14:57:12.901457Z",
     "iopub.status.idle": "2024-02-13T14:57:13.663597Z",
     "shell.execute_reply": "2024-02-13T14:57:13.662593Z"
    },
    "papermill": {
     "duration": 0.772492,
     "end_time": "2024-02-13T14:57:13.666130",
     "exception": false,
     "start_time": "2024-02-13T14:57:12.893638",
     "status": "completed"
    },
    "tags": []
   },
   "outputs": [
    {
     "name": "stdout",
     "output_type": "stream",
     "text": [
      "/kaggle/input/car-prices-prediction-data/CarPricesPrediction.csv\n"
     ]
    }
   ],
   "source": [
    "# This Python 3 environment comes with many helpful analytics libraries installed\n",
    "# It is defined by the kaggle/python Docker image: https://github.com/kaggle/docker-python\n",
    "# For example, here's several helpful packages to load\n",
    "\n",
    "import numpy as np # linear algebra\n",
    "import pandas as pd # data processing, CSV file I/O (e.g. pd.read_csv)\n",
    "\n",
    "# Input data files are available in the read-only \"../input/\" directory\n",
    "# For example, running this (by clicking run or pressing Shift+Enter) will list all files under the input directory\n",
    "\n",
    "import os\n",
    "for dirname, _, filenames in os.walk('/kaggle/input'):\n",
    "    for filename in filenames:\n",
    "        print(os.path.join(dirname, filename))\n",
    "\n",
    "# You can write up to 20GB to the current directory (/kaggle/working/) that gets preserved as output when you create a version using \"Save & Run All\" \n",
    "# You can also write temporary files to /kaggle/temp/, but they won't be saved outside of the current session"
   ]
  },
  {
   "cell_type": "code",
   "execution_count": 2,
   "id": "c58bd619",
   "metadata": {
    "execution": {
     "iopub.execute_input": "2024-02-13T14:57:13.680231Z",
     "iopub.status.busy": "2024-02-13T14:57:13.679812Z",
     "iopub.status.idle": "2024-02-13T14:57:15.234557Z",
     "shell.execute_reply": "2024-02-13T14:57:15.233537Z"
    },
    "papermill": {
     "duration": 1.5644,
     "end_time": "2024-02-13T14:57:15.237107",
     "exception": false,
     "start_time": "2024-02-13T14:57:13.672707",
     "status": "completed"
    },
    "tags": []
   },
   "outputs": [],
   "source": [
    "import pandas as pd\n",
    "import numpy as np\n",
    "import matplotlib.pyplot as plt\n",
    "import seaborn as sns\n",
    "import sklearn\n",
    "from sklearn.preprocessing import LabelEncoder\n",
    "from sklearn.preprocessing import StandardScaler\n",
    "from sklearn.model_selection import train_test_split\n",
    "from sklearn.neighbors import KNeighborsClassifier\n",
    "from sklearn.metrics import accuracy_score\n"
   ]
  },
  {
   "cell_type": "markdown",
   "id": "d02ac38d",
   "metadata": {
    "papermill": {
     "duration": 0.006188,
     "end_time": "2024-02-13T14:57:15.249904",
     "exception": false,
     "start_time": "2024-02-13T14:57:15.243716",
     "status": "completed"
    },
    "tags": []
   },
   "source": [
    "# Data:"
   ]
  },
  {
   "cell_type": "code",
   "execution_count": 3,
   "id": "798b7849",
   "metadata": {
    "execution": {
     "iopub.execute_input": "2024-02-13T14:57:15.264002Z",
     "iopub.status.busy": "2024-02-13T14:57:15.263106Z",
     "iopub.status.idle": "2024-02-13T14:57:15.293435Z",
     "shell.execute_reply": "2024-02-13T14:57:15.292612Z"
    },
    "papermill": {
     "duration": 0.039363,
     "end_time": "2024-02-13T14:57:15.295332",
     "exception": false,
     "start_time": "2024-02-13T14:57:15.255969",
     "status": "completed"
    },
    "tags": []
   },
   "outputs": [
    {
     "data": {
      "text/html": [
       "<div>\n",
       "<style scoped>\n",
       "    .dataframe tbody tr th:only-of-type {\n",
       "        vertical-align: middle;\n",
       "    }\n",
       "\n",
       "    .dataframe tbody tr th {\n",
       "        vertical-align: top;\n",
       "    }\n",
       "\n",
       "    .dataframe thead th {\n",
       "        text-align: right;\n",
       "    }\n",
       "</style>\n",
       "<table border=\"1\" class=\"dataframe\">\n",
       "  <thead>\n",
       "    <tr style=\"text-align: right;\">\n",
       "      <th></th>\n",
       "      <th>Unnamed: 0</th>\n",
       "      <th>Make</th>\n",
       "      <th>Model</th>\n",
       "      <th>Year</th>\n",
       "      <th>Mileage</th>\n",
       "      <th>Condition</th>\n",
       "      <th>Price</th>\n",
       "    </tr>\n",
       "  </thead>\n",
       "  <tbody>\n",
       "    <tr>\n",
       "      <th>0</th>\n",
       "      <td>0</td>\n",
       "      <td>Ford</td>\n",
       "      <td>Silverado</td>\n",
       "      <td>2022</td>\n",
       "      <td>18107</td>\n",
       "      <td>Excellent</td>\n",
       "      <td>19094.75</td>\n",
       "    </tr>\n",
       "    <tr>\n",
       "      <th>1</th>\n",
       "      <td>1</td>\n",
       "      <td>Toyota</td>\n",
       "      <td>Silverado</td>\n",
       "      <td>2014</td>\n",
       "      <td>13578</td>\n",
       "      <td>Excellent</td>\n",
       "      <td>27321.10</td>\n",
       "    </tr>\n",
       "    <tr>\n",
       "      <th>2</th>\n",
       "      <td>2</td>\n",
       "      <td>Chevrolet</td>\n",
       "      <td>Civic</td>\n",
       "      <td>2016</td>\n",
       "      <td>46054</td>\n",
       "      <td>Good</td>\n",
       "      <td>23697.30</td>\n",
       "    </tr>\n",
       "    <tr>\n",
       "      <th>3</th>\n",
       "      <td>3</td>\n",
       "      <td>Ford</td>\n",
       "      <td>Civic</td>\n",
       "      <td>2022</td>\n",
       "      <td>34981</td>\n",
       "      <td>Excellent</td>\n",
       "      <td>18251.05</td>\n",
       "    </tr>\n",
       "    <tr>\n",
       "      <th>4</th>\n",
       "      <td>4</td>\n",
       "      <td>Chevrolet</td>\n",
       "      <td>Civic</td>\n",
       "      <td>2019</td>\n",
       "      <td>63565</td>\n",
       "      <td>Excellent</td>\n",
       "      <td>19821.85</td>\n",
       "    </tr>\n",
       "  </tbody>\n",
       "</table>\n",
       "</div>"
      ],
      "text/plain": [
       "   Unnamed: 0       Make      Model  Year  Mileage  Condition     Price\n",
       "0           0       Ford  Silverado  2022    18107  Excellent  19094.75\n",
       "1           1     Toyota  Silverado  2014    13578  Excellent  27321.10\n",
       "2           2  Chevrolet      Civic  2016    46054       Good  23697.30\n",
       "3           3       Ford      Civic  2022    34981  Excellent  18251.05\n",
       "4           4  Chevrolet      Civic  2019    63565  Excellent  19821.85"
      ]
     },
     "execution_count": 3,
     "metadata": {},
     "output_type": "execute_result"
    }
   ],
   "source": [
    "df = pd.read_csv('/kaggle/input/car-prices-prediction-data/CarPricesPrediction.csv')\n",
    "df.head()"
   ]
  },
  {
   "cell_type": "code",
   "execution_count": 4,
   "id": "8ce57e4d",
   "metadata": {
    "execution": {
     "iopub.execute_input": "2024-02-13T14:57:15.309090Z",
     "iopub.status.busy": "2024-02-13T14:57:15.308565Z",
     "iopub.status.idle": "2024-02-13T14:57:15.314056Z",
     "shell.execute_reply": "2024-02-13T14:57:15.313264Z"
    },
    "papermill": {
     "duration": 0.0145,
     "end_time": "2024-02-13T14:57:15.316042",
     "exception": false,
     "start_time": "2024-02-13T14:57:15.301542",
     "status": "completed"
    },
    "tags": []
   },
   "outputs": [
    {
     "data": {
      "text/plain": [
       "(1000, 7)"
      ]
     },
     "execution_count": 4,
     "metadata": {},
     "output_type": "execute_result"
    }
   ],
   "source": [
    "df.shape"
   ]
  },
  {
   "cell_type": "code",
   "execution_count": 5,
   "id": "21f7446b",
   "metadata": {
    "execution": {
     "iopub.execute_input": "2024-02-13T14:57:15.330218Z",
     "iopub.status.busy": "2024-02-13T14:57:15.329569Z",
     "iopub.status.idle": "2024-02-13T14:57:15.339132Z",
     "shell.execute_reply": "2024-02-13T14:57:15.338285Z"
    },
    "papermill": {
     "duration": 0.018601,
     "end_time": "2024-02-13T14:57:15.340953",
     "exception": false,
     "start_time": "2024-02-13T14:57:15.322352",
     "status": "completed"
    },
    "tags": []
   },
   "outputs": [
    {
     "data": {
      "text/plain": [
       "Unnamed: 0    0\n",
       "Make          0\n",
       "Model         0\n",
       "Year          0\n",
       "Mileage       0\n",
       "Condition     0\n",
       "Price         0\n",
       "dtype: int64"
      ]
     },
     "execution_count": 5,
     "metadata": {},
     "output_type": "execute_result"
    }
   ],
   "source": [
    "df.isna().sum()"
   ]
  },
  {
   "cell_type": "code",
   "execution_count": 6,
   "id": "d831984a",
   "metadata": {
    "execution": {
     "iopub.execute_input": "2024-02-13T14:57:15.354779Z",
     "iopub.status.busy": "2024-02-13T14:57:15.354500Z",
     "iopub.status.idle": "2024-02-13T14:57:15.378315Z",
     "shell.execute_reply": "2024-02-13T14:57:15.377119Z"
    },
    "papermill": {
     "duration": 0.032841,
     "end_time": "2024-02-13T14:57:15.380224",
     "exception": false,
     "start_time": "2024-02-13T14:57:15.347383",
     "status": "completed"
    },
    "tags": []
   },
   "outputs": [
    {
     "name": "stdout",
     "output_type": "stream",
     "text": [
      "<class 'pandas.core.frame.DataFrame'>\n",
      "RangeIndex: 1000 entries, 0 to 999\n",
      "Data columns (total 7 columns):\n",
      " #   Column      Non-Null Count  Dtype  \n",
      "---  ------      --------------  -----  \n",
      " 0   Unnamed: 0  1000 non-null   int64  \n",
      " 1   Make        1000 non-null   object \n",
      " 2   Model       1000 non-null   object \n",
      " 3   Year        1000 non-null   int64  \n",
      " 4   Mileage     1000 non-null   int64  \n",
      " 5   Condition   1000 non-null   object \n",
      " 6   Price       1000 non-null   float64\n",
      "dtypes: float64(1), int64(3), object(3)\n",
      "memory usage: 54.8+ KB\n"
     ]
    }
   ],
   "source": [
    "df.info()"
   ]
  },
  {
   "cell_type": "markdown",
   "id": "ce3e3d1a",
   "metadata": {
    "papermill": {
     "duration": 0.006454,
     "end_time": "2024-02-13T14:57:15.393843",
     "exception": false,
     "start_time": "2024-02-13T14:57:15.387389",
     "status": "completed"
    },
    "tags": []
   },
   "source": [
    "# Graphics: "
   ]
  },
  {
   "cell_type": "code",
   "execution_count": 7,
   "id": "8ca06bba",
   "metadata": {
    "execution": {
     "iopub.execute_input": "2024-02-13T14:57:15.408175Z",
     "iopub.status.busy": "2024-02-13T14:57:15.407905Z",
     "iopub.status.idle": "2024-02-13T14:57:17.110635Z",
     "shell.execute_reply": "2024-02-13T14:57:17.109691Z"
    },
    "papermill": {
     "duration": 1.712686,
     "end_time": "2024-02-13T14:57:17.113006",
     "exception": false,
     "start_time": "2024-02-13T14:57:15.400320",
     "status": "completed"
    },
    "tags": []
   },
   "outputs": [
    {
     "data": {
      "image/png": "[encoded data removed]",
      "text/plain": [
       "<Figure size 1200x600 with 1 Axes>"
      ]
     },
     "metadata": {},
     "output_type": "display_data"
    }
   ],
   "source": [
    "plt.figure(figsize=(12, 6))\n",
    "plt.bar(df['Year'], df['Price'])\n",
    "plt.xlabel('Year')\n",
    "plt.ylabel('Price')\n",
    "plt.title('Price by Year')\n",
    "plt.xticks(rotation=90)\n",
    "plt.show()"
   ]
  },
  {
   "cell_type": "code",
   "execution_count": 8,
   "id": "81e676e3",
   "metadata": {
    "execution": {
     "iopub.execute_input": "2024-02-13T14:57:17.129954Z",
     "iopub.status.busy": "2024-02-13T14:57:17.129449Z",
     "iopub.status.idle": "2024-02-13T14:57:17.482405Z",
     "shell.execute_reply": "2024-02-13T14:57:17.481514Z"
    },
    "papermill": {
     "duration": 0.362986,
     "end_time": "2024-02-13T14:57:17.484456",
     "exception": false,
     "start_time": "2024-02-13T14:57:17.121470",
     "status": "completed"
    },
    "tags": []
   },
   "outputs": [
    {
     "name": "stderr",
     "output_type": "stream",
     "text": [
      "/opt/conda/lib/python3.10/site-packages/seaborn/_oldcore.py:1119: FutureWarning: use_inf_as_na option is deprecated and will be removed in a future version. Convert inf values to NaN before operating instead.\n",
      "  with pd.option_context('mode.use_inf_as_na', True):\n"
     ]
    },
    {
     "data": {
      "image/png": "[encoded data removed]",
      "text/plain": [
       "<Figure size 1200x600 with 1 Axes>"
      ]
     },
     "metadata": {},
     "output_type": "display_data"
    }
   ],
   "source": [
    "plt.figure(figsize=(12, 6))\n",
    "sns.histplot(df['Price'], kde=True)\n",
    "plt.title('Distribution of Price')\n",
    "plt.xlabel('Price')\n",
    "plt.ylabel('Frequency')\n",
    "plt.show()"
   ]
  },
  {
   "cell_type": "code",
   "execution_count": 9,
   "id": "bb37bebc",
   "metadata": {
    "execution": {
     "iopub.execute_input": "2024-02-13T14:57:17.501240Z",
     "iopub.status.busy": "2024-02-13T14:57:17.500933Z",
     "iopub.status.idle": "2024-02-13T14:57:17.760154Z",
     "shell.execute_reply": "2024-02-13T14:57:17.759199Z"
    },
    "papermill": {
     "duration": 0.270101,
     "end_time": "2024-02-13T14:57:17.762357",
     "exception": false,
     "start_time": "2024-02-13T14:57:17.492256",
     "status": "completed"
    },
    "tags": []
   },
   "outputs": [
    {
     "data": {
      "image/png": "[encoded data removed]",
      "text/plain": [
       "<Figure size 1200x600 with 1 Axes>"
      ]
     },
     "metadata": {},
     "output_type": "display_data"
    }
   ],
   "source": [
    "plt.figure(figsize=(12, 6))\n",
    "sns.boxplot(x='Make', y='Price', data=df)\n",
    "plt.title('Price Distribution by Make')\n",
    "plt.xlabel('Make')\n",
    "plt.ylabel('Price')\n",
    "plt.xticks(rotation=90)\n",
    "plt.show()"
   ]
  },
  {
   "cell_type": "code",
   "execution_count": 10,
   "id": "0623a85e",
   "metadata": {
    "execution": {
     "iopub.execute_input": "2024-02-13T14:57:17.780409Z",
     "iopub.status.busy": "2024-02-13T14:57:17.779639Z",
     "iopub.status.idle": "2024-02-13T14:57:18.065248Z",
     "shell.execute_reply": "2024-02-13T14:57:18.064086Z"
    },
    "papermill": {
     "duration": 0.297712,
     "end_time": "2024-02-13T14:57:18.068227",
     "exception": false,
     "start_time": "2024-02-13T14:57:17.770515",
     "status": "completed"
    },
    "tags": []
   },
   "outputs": [
    {
     "data": {
      "image/png": "[encoded data removed]",
      "text/plain": [
       "<Figure size 1200x600 with 1 Axes>"
      ]
     },
     "metadata": {},
     "output_type": "display_data"
    }
   ],
   "source": [
    "# Bar plot by Condition\n",
    "plt.figure(figsize=(12, 6))\n",
    "sns.barplot(x='Condition', y='Price', data=df)\n",
    "plt.title('Average Price by Condition')\n",
    "plt.xlabel('Condition')\n",
    "plt.ylabel('Average Price')\n",
    "plt.show()"
   ]
  },
  {
   "cell_type": "code",
   "execution_count": 11,
   "id": "10c13f07",
   "metadata": {
    "execution": {
     "iopub.execute_input": "2024-02-13T14:57:18.087831Z",
     "iopub.status.busy": "2024-02-13T14:57:18.087192Z",
     "iopub.status.idle": "2024-02-13T14:57:18.233099Z",
     "shell.execute_reply": "2024-02-13T14:57:18.232205Z"
    },
    "papermill": {
     "duration": 0.157642,
     "end_time": "2024-02-13T14:57:18.235137",
     "exception": false,
     "start_time": "2024-02-13T14:57:18.077495",
     "status": "completed"
    },
    "tags": []
   },
   "outputs": [
    {
     "data": {
      "image/png": "[encoded data removed]",
      "text/plain": [
       "<Figure size 640x480 with 1 Axes>"
      ]
     },
     "metadata": {},
     "output_type": "display_data"
    }
   ],
   "source": [
    "df[\"Condition\"].value_counts().plot(kind= \"pie\",autopct='%1.2f%%', shadow = True)\n",
    "plt.show()"
   ]
  },
  {
   "cell_type": "markdown",
   "id": "9f93841a",
   "metadata": {
    "papermill": {
     "duration": 0.008683,
     "end_time": "2024-02-13T14:57:18.253018",
     "exception": false,
     "start_time": "2024-02-13T14:57:18.244335",
     "status": "completed"
    },
    "tags": []
   },
   "source": [
    "# Data analysis: "
   ]
  },
  {
   "cell_type": "code",
   "execution_count": 12,
   "id": "60fc7910",
   "metadata": {
    "execution": {
     "iopub.execute_input": "2024-02-13T14:57:18.276486Z",
     "iopub.status.busy": "2024-02-13T14:57:18.276164Z",
     "iopub.status.idle": "2024-02-13T14:57:18.293942Z",
     "shell.execute_reply": "2024-02-13T14:57:18.292910Z"
    },
    "papermill": {
     "duration": 0.032858,
     "end_time": "2024-02-13T14:57:18.296257",
     "exception": false,
     "start_time": "2024-02-13T14:57:18.263399",
     "status": "completed"
    },
    "tags": []
   },
   "outputs": [
    {
     "data": {
      "text/html": [
       "<div>\n",
       "<style scoped>\n",
       "    .dataframe tbody tr th:only-of-type {\n",
       "        vertical-align: middle;\n",
       "    }\n",
       "\n",
       "    .dataframe tbody tr th {\n",
       "        vertical-align: top;\n",
       "    }\n",
       "\n",
       "    .dataframe thead th {\n",
       "        text-align: right;\n",
       "    }\n",
       "</style>\n",
       "<table border=\"1\" class=\"dataframe\">\n",
       "  <thead>\n",
       "    <tr style=\"text-align: right;\">\n",
       "      <th></th>\n",
       "      <th>Unnamed: 0</th>\n",
       "      <th>Make</th>\n",
       "      <th>Model</th>\n",
       "      <th>Year</th>\n",
       "      <th>Mileage</th>\n",
       "      <th>Condition</th>\n",
       "      <th>Price</th>\n",
       "    </tr>\n",
       "  </thead>\n",
       "  <tbody>\n",
       "    <tr>\n",
       "      <th>0</th>\n",
       "      <td>0</td>\n",
       "      <td>1</td>\n",
       "      <td>4</td>\n",
       "      <td>2022</td>\n",
       "      <td>18107</td>\n",
       "      <td>0</td>\n",
       "      <td>19094.75</td>\n",
       "    </tr>\n",
       "    <tr>\n",
       "      <th>1</th>\n",
       "      <td>1</td>\n",
       "      <td>4</td>\n",
       "      <td>4</td>\n",
       "      <td>2014</td>\n",
       "      <td>13578</td>\n",
       "      <td>0</td>\n",
       "      <td>27321.10</td>\n",
       "    </tr>\n",
       "    <tr>\n",
       "      <th>2</th>\n",
       "      <td>2</td>\n",
       "      <td>0</td>\n",
       "      <td>2</td>\n",
       "      <td>2016</td>\n",
       "      <td>46054</td>\n",
       "      <td>2</td>\n",
       "      <td>23697.30</td>\n",
       "    </tr>\n",
       "    <tr>\n",
       "      <th>3</th>\n",
       "      <td>3</td>\n",
       "      <td>1</td>\n",
       "      <td>2</td>\n",
       "      <td>2022</td>\n",
       "      <td>34981</td>\n",
       "      <td>0</td>\n",
       "      <td>18251.05</td>\n",
       "    </tr>\n",
       "    <tr>\n",
       "      <th>4</th>\n",
       "      <td>4</td>\n",
       "      <td>0</td>\n",
       "      <td>2</td>\n",
       "      <td>2019</td>\n",
       "      <td>63565</td>\n",
       "      <td>0</td>\n",
       "      <td>19821.85</td>\n",
       "    </tr>\n",
       "  </tbody>\n",
       "</table>\n",
       "</div>"
      ],
      "text/plain": [
       "   Unnamed: 0  Make  Model  Year  Mileage  Condition     Price\n",
       "0           0     1      4  2022    18107          0  19094.75\n",
       "1           1     4      4  2014    13578          0  27321.10\n",
       "2           2     0      2  2016    46054          2  23697.30\n",
       "3           3     1      2  2022    34981          0  18251.05\n",
       "4           4     0      2  2019    63565          0  19821.85"
      ]
     },
     "execution_count": 12,
     "metadata": {},
     "output_type": "execute_result"
    }
   ],
   "source": [
    "label_encoder = LabelEncoder()\n",
    "for column in df.columns:\n",
    "    if df[column].dtype == 'object':\n",
    "        df[column] = label_encoder.fit_transform(df[column])\n",
    "\n",
    "df.head()"
   ]
  },
  {
   "cell_type": "code",
   "execution_count": 13,
   "id": "6da65bc6",
   "metadata": {
    "execution": {
     "iopub.execute_input": "2024-02-13T14:57:18.316791Z",
     "iopub.status.busy": "2024-02-13T14:57:18.315995Z",
     "iopub.status.idle": "2024-02-13T14:57:18.337601Z",
     "shell.execute_reply": "2024-02-13T14:57:18.336543Z"
    },
    "papermill": {
     "duration": 0.034499,
     "end_time": "2024-02-13T14:57:18.340177",
     "exception": false,
     "start_time": "2024-02-13T14:57:18.305678",
     "status": "completed"
    },
    "tags": []
   },
   "outputs": [
    {
     "data": {
      "text/html": [
       "<div>\n",
       "<style scoped>\n",
       "    .dataframe tbody tr th:only-of-type {\n",
       "        vertical-align: middle;\n",
       "    }\n",
       "\n",
       "    .dataframe tbody tr th {\n",
       "        vertical-align: top;\n",
       "    }\n",
       "\n",
       "    .dataframe thead th {\n",
       "        text-align: right;\n",
       "    }\n",
       "</style>\n",
       "<table border=\"1\" class=\"dataframe\">\n",
       "  <thead>\n",
       "    <tr style=\"text-align: right;\">\n",
       "      <th></th>\n",
       "      <th>Unnamed: 0</th>\n",
       "      <th>Make</th>\n",
       "      <th>Model</th>\n",
       "      <th>Year</th>\n",
       "      <th>Mileage</th>\n",
       "      <th>Condition</th>\n",
       "      <th>Price</th>\n",
       "    </tr>\n",
       "  </thead>\n",
       "  <tbody>\n",
       "    <tr>\n",
       "      <th>0</th>\n",
       "      <td>-1.730320</td>\n",
       "      <td>-0.686394</td>\n",
       "      <td>1.456316</td>\n",
       "      <td>1.622767</td>\n",
       "      <td>-1.524017</td>\n",
       "      <td>-0.781622</td>\n",
       "      <td>-0.730711</td>\n",
       "    </tr>\n",
       "    <tr>\n",
       "      <th>1</th>\n",
       "      <td>-1.726856</td>\n",
       "      <td>1.412669</td>\n",
       "      <td>1.456316</td>\n",
       "      <td>-0.493311</td>\n",
       "      <td>-1.637747</td>\n",
       "      <td>-0.781622</td>\n",
       "      <td>1.208063</td>\n",
       "    </tr>\n",
       "    <tr>\n",
       "      <th>2</th>\n",
       "      <td>-1.723391</td>\n",
       "      <td>-1.386081</td>\n",
       "      <td>0.064044</td>\n",
       "      <td>0.035709</td>\n",
       "      <td>-0.822225</td>\n",
       "      <td>1.461197</td>\n",
       "      <td>0.354011</td>\n",
       "    </tr>\n",
       "    <tr>\n",
       "      <th>3</th>\n",
       "      <td>-1.719927</td>\n",
       "      <td>-0.686394</td>\n",
       "      <td>0.064044</td>\n",
       "      <td>1.622767</td>\n",
       "      <td>-1.100285</td>\n",
       "      <td>-0.781622</td>\n",
       "      <td>-0.929553</td>\n",
       "    </tr>\n",
       "    <tr>\n",
       "      <th>4</th>\n",
       "      <td>-1.716463</td>\n",
       "      <td>-1.386081</td>\n",
       "      <td>0.064044</td>\n",
       "      <td>0.829238</td>\n",
       "      <td>-0.382497</td>\n",
       "      <td>-0.781622</td>\n",
       "      <td>-0.559349</td>\n",
       "    </tr>\n",
       "  </tbody>\n",
       "</table>\n",
       "</div>"
      ],
      "text/plain": [
       "   Unnamed: 0      Make     Model      Year   Mileage  Condition     Price\n",
       "0   -1.730320 -0.686394  1.456316  1.622767 -1.524017  -0.781622 -0.730711\n",
       "1   -1.726856  1.412669  1.456316 -0.493311 -1.637747  -0.781622  1.208063\n",
       "2   -1.723391 -1.386081  0.064044  0.035709 -0.822225   1.461197  0.354011\n",
       "3   -1.719927 -0.686394  0.064044  1.622767 -1.100285  -0.781622 -0.929553\n",
       "4   -1.716463 -1.386081  0.064044  0.829238 -0.382497  -0.781622 -0.559349"
      ]
     },
     "execution_count": 13,
     "metadata": {},
     "output_type": "execute_result"
    }
   ],
   "source": [
    "scaler = StandardScaler()\n",
    "df_scaled = scaler.fit_transform(df)\n",
    "df_scaled = pd.DataFrame(df_scaled, columns=df.columns)\n",
    "\n",
    "df_scaled.head()"
   ]
  },
  {
   "cell_type": "code",
   "execution_count": 14,
   "id": "e6630cb5",
   "metadata": {
    "execution": {
     "iopub.execute_input": "2024-02-13T14:57:18.362612Z",
     "iopub.status.busy": "2024-02-13T14:57:18.361830Z",
     "iopub.status.idle": "2024-02-13T14:57:18.370451Z",
     "shell.execute_reply": "2024-02-13T14:57:18.369566Z"
    },
    "papermill": {
     "duration": 0.021566,
     "end_time": "2024-02-13T14:57:18.372520",
     "exception": false,
     "start_time": "2024-02-13T14:57:18.350954",
     "status": "completed"
    },
    "tags": []
   },
   "outputs": [],
   "source": [
    "X = df_scaled.drop('Price',axis=1)\n",
    "Y = df_scaled['Price']\n",
    "\n",
    "X_train,X_test,y_train,y_test = train_test_split(X,Y,test_size=0.2,random_state=42)"
   ]
  },
  {
   "cell_type": "markdown",
   "id": "126814aa",
   "metadata": {
    "papermill": {
     "duration": 0.008925,
     "end_time": "2024-02-13T14:57:18.391473",
     "exception": false,
     "start_time": "2024-02-13T14:57:18.382548",
     "status": "completed"
    },
    "tags": []
   },
   "source": [
    "# Regression model: "
   ]
  },
  {
   "cell_type": "code",
   "execution_count": 15,
   "id": "7fd474db",
   "metadata": {
    "execution": {
     "iopub.execute_input": "2024-02-13T14:57:18.412066Z",
     "iopub.status.busy": "2024-02-13T14:57:18.411460Z",
     "iopub.status.idle": "2024-02-13T14:57:18.421165Z",
     "shell.execute_reply": "2024-02-13T14:57:18.420483Z"
    },
    "papermill": {
     "duration": 0.022349,
     "end_time": "2024-02-13T14:57:18.423022",
     "exception": false,
     "start_time": "2024-02-13T14:57:18.400673",
     "status": "completed"
    },
    "tags": []
   },
   "outputs": [],
   "source": [
    "from sklearn.neighbors import KNeighborsRegressor\n",
    "knn_regressor = KNeighborsRegressor()\n",
    "knn_regressor.fit(X_train, y_train)\n",
    "\n",
    "y_pred = knn_regressor.predict(X_test)"
   ]
  },
  {
   "cell_type": "code",
   "execution_count": 16,
   "id": "3e560ee9",
   "metadata": {
    "execution": {
     "iopub.execute_input": "2024-02-13T14:57:18.443071Z",
     "iopub.status.busy": "2024-02-13T14:57:18.442786Z",
     "iopub.status.idle": "2024-02-13T14:57:18.448674Z",
     "shell.execute_reply": "2024-02-13T14:57:18.447552Z"
    },
    "papermill": {
     "duration": 0.01824,
     "end_time": "2024-02-13T14:57:18.450680",
     "exception": false,
     "start_time": "2024-02-13T14:57:18.432440",
     "status": "completed"
    },
    "tags": []
   },
   "outputs": [
    {
     "name": "stdout",
     "output_type": "stream",
     "text": [
      "Mean Squared Error (MSE): 0.07553886163987585\n"
     ]
    }
   ],
   "source": [
    "from sklearn.metrics import mean_squared_error\n",
    "mse = mean_squared_error(y_test, y_pred)\n",
    "print(\"Mean Squared Error (MSE):\", mse)"
   ]
  },
  {
   "cell_type": "code",
   "execution_count": 17,
   "id": "1b204463",
   "metadata": {
    "execution": {
     "iopub.execute_input": "2024-02-13T14:57:18.471326Z",
     "iopub.status.busy": "2024-02-13T14:57:18.471045Z",
     "iopub.status.idle": "2024-02-13T14:57:18.889624Z",
     "shell.execute_reply": "2024-02-13T14:57:18.888605Z"
    },
    "papermill": {
     "duration": 0.431306,
     "end_time": "2024-02-13T14:57:18.891782",
     "exception": false,
     "start_time": "2024-02-13T14:57:18.460476",
     "status": "completed"
    },
    "tags": []
   },
   "outputs": [
    {
     "name": "stdout",
     "output_type": "stream",
     "text": [
      "Mean Squared Error (MSE): 0.0012211801330957702\n"
     ]
    }
   ],
   "source": [
    "from sklearn.ensemble import RandomForestRegressor\n",
    "\n",
    "rf_regressor = RandomForestRegressor(n_estimators=100, random_state=42)\n",
    "rf_regressor.fit(X_train, y_train)\n",
    "predictions = rf_regressor.predict(X_test)\n",
    "\n",
    "mse = mean_squared_error(y_test, predictions)\n",
    "print(\"Mean Squared Error (MSE):\", mse)"
   ]
  },
  {
   "cell_type": "code",
   "execution_count": null,
   "id": "6acc3426",
   "metadata": {
    "papermill": {
     "duration": 0.012237,
     "end_time": "2024-02-13T14:57:18.914202",
     "exception": false,
     "start_time": "2024-02-13T14:57:18.901965",
     "status": "completed"
    },
    "tags": []
   },
   "outputs": [],
   "source": []
  }
 ],
 "metadata": {
  "kaggle": {
   "accelerator": "nvidiaTeslaT4",
   "dataSources": [
    {
     "datasetId": 4424223,
     "sourceId": 7600123,
     "sourceType": "datasetVersion"
    }
   ],
   "dockerImageVersionId": 30648,
   "isGpuEnabled": true,
   "isInternetEnabled": true,
   "language": "python",
   "sourceType": "notebook"
  },
  "kernelspec": {
   "display_name": "Python 3",
   "language": "python",
   "name": "python3"
  },
  "language_info": {
   "codemirror_mode": {
    "name": "ipython",
    "version": 3
   },
   "file_extension": ".py",
   "mimetype": "text/x-python",
   "name": "python",
   "nbconvert_exporter": "python",
   "pygments_lexer": "ipython3",
   "version": "3.10.13"
  },
  "papermill": {
   "default_parameters": {},
   "duration": 9.386086,
   "end_time": "2024-02-13T14:57:19.446198",
   "environment_variables": {},
   "exception": null,
   "input_path": "__notebook__.ipynb",
   "output_path": "__notebook__.ipynb",
   "parameters": {},
   "start_time": "2024-02-13T14:57:10.060112",
   "version": "2.5.0"
  }
 },
 "nbformat": 4,
 "nbformat_minor": 5
}
